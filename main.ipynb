{
 "cells": [
  {
   "cell_type": "code",
   "execution_count": 6,
   "metadata": {},
   "outputs": [],
   "source": [
    "import import_ipynb\n",
    "import ext\n",
    "import random\n",
    "import argparse\n",
    "import tsp as tp\n",
    "from datetime import datetime"
   ]
  },
  {
   "cell_type": "code",
   "execution_count": 7,
   "metadata": {},
   "outputs": [],
   "source": [
    "def run(args):\n",
    "    genes = utils.get_genes_from(args.cities_fn)\n",
    "\n",
    "    if args.verbose:\n",
    "        print(\"-- Running TSP with {} cities --\".format(len(genes)))\n",
    "\n",
    "    history = ga.run_ga(genes, args.pop_size, args.n_gen,\n",
    "                        args.tourn_size, args.mut_rate, args.verbose)\n",
    "\n",
    "    if args.verbose:\n",
    "        print(\"-- Drawing Route --\")\n",
    "\n",
    "    utils.plot(history['cost'], history['route'])\n",
    "\n",
    "    if args.verbose:\n",
    "        print(\"-- Done --\")"
   ]
  },
  {
   "cell_type": "code",
   "execution_count": 8,
   "metadata": {},
   "outputs": [
    {
     "name": "stderr",
     "output_type": "stream",
     "text": [
      "usage: ipykernel_launcher.py [-h] [-v VERBOSE] [--pop_size POP_SIZE]\n",
      "                             [--tourn_size TOURN_SIZE] [--mut_rate MUT_RATE]\n",
      "                             [--n_gen N_GEN] [--cities_fn CITIES_FN]\n",
      "ipykernel_launcher.py: error: unrecognized arguments: -f C:\\Users\\forum\\AppData\\Roaming\\jupyter\\runtime\\kernel-cdeb797d-d5c3-4b55-8360-6edd248d0c96.json\n"
     ]
    },
    {
     "ename": "SystemExit",
     "evalue": "2",
     "output_type": "error",
     "traceback": [
      "An exception has occurred, use %tb to see the full traceback.\n",
      "\u001b[1;31mSystemExit\u001b[0m\u001b[1;31m:\u001b[0m 2\n"
     ]
    }
   ],
   "source": [
    "if __name__ == \"__main__\":\n",
    "    parser = argparse.ArgumentParser()\n",
    "\n",
    "    parser.add_argument('-v', '--verbose', type=int, default=1)\n",
    "    parser.add_argument('--pop_size', type=int, default=500, help='Population size')\n",
    "    parser.add_argument('--tourn_size', type=int, default=50, help='Tournament size')\n",
    "    parser.add_argument('--mut_rate', type=float, default=0.02, help='Mutation rate')\n",
    "    parser.add_argument('--n_gen', type=int, default=20, help='Number of equal generations before stopping')\n",
    "    parser.add_argument('--cities_fn', type=str, default=\"data\\cities.csv\", help='Data containing the geographical coordinates of cities')\n",
    "\n",
    "    random.seed(datetime.now())\n",
    "    args = parser.parse_args()\n",
    "\n",
    "    if args.tourn_size > args.pop_size:\n",
    "        raise argparse.ArgumentTypeError('Tournament size cannot be bigger than population size.')\n",
    "\n",
    "    run(args)"
   ]
  },
  {
   "cell_type": "code",
   "execution_count": null,
   "metadata": {},
   "outputs": [],
   "source": []
  }
 ],
 "metadata": {
  "kernelspec": {
   "display_name": "Python 3",
   "language": "python",
   "name": "python3"
  },
  "language_info": {
   "codemirror_mode": {
    "name": "ipython",
    "version": 3
   },
   "file_extension": ".py",
   "mimetype": "text/x-python",
   "name": "python",
   "nbconvert_exporter": "python",
   "pygments_lexer": "ipython3",
   "version": "3.7.1"
  }
 },
 "nbformat": 4,
 "nbformat_minor": 2
}
