{
 "cells": [
  {
   "cell_type": "code",
   "execution_count": 4,
   "metadata": {},
   "outputs": [
    {
     "name": "stdout",
     "output_type": "stream",
     "text": [
      "importing Jupyter notebook from tsp.ipynb\n"
     ]
    }
   ],
   "source": [
    "import import_ipynb\n",
    "import matplotlib.pyplot as plt\n",
    "import tsp as tp\n",
    "import pandas as pd\n",
    "from random import sample\n",
    "from mpl_toolkits.basemap import Basemap"
   ]
  },
  {
   "cell_type": "code",
   "execution_count": 5,
   "metadata": {},
   "outputs": [],
   "source": [
    "def get_genes_from(fn, sample_n=0):\n",
    "    df = pd.read_csv(fn)\n",
    "    genes = [ga.Gene(row['city'], row['latitude'], row['longitude'])\n",
    "             for _, row in df.iterrows()]\n",
    "\n",
    "    return genes if sample_n <= 0 else sample(genes, sample_n)"
   ]
  },
  {
   "cell_type": "code",
   "execution_count": 6,
   "metadata": {},
   "outputs": [],
   "source": [
    "def plot(costs, individual, save_to=None):\n",
    "    plt.figure(1)\n",
    "    plt.subplot(121)\n",
    "    plot_ga_convergence(costs)\n",
    "\n",
    "    plt.subplot(122)\n",
    "    plot_route(individual)\n",
    "\n",
    "    if save_to is not None:\n",
    "        plt.savefig(save_to)\n",
    "        plt.close()\n",
    "    else:\n",
    "        plt.show()\n"
   ]
  },
  {
   "cell_type": "code",
   "execution_count": 7,
   "metadata": {},
   "outputs": [],
   "source": [
    "def plot_ga_convergence(costs):\n",
    "    x = range(len(costs))\n",
    "    plt.title(\"GA Convergence\")\n",
    "    plt.xlabel('generation')\n",
    "    plt.ylabel('cost (KM)')\n",
    "    plt.text(x[len(x) // 2], costs[0], 'min cost: {} KM'.format(costs[-1]), ha='center', va='center')\n",
    "    plt.plot(x, costs, '-')\n"
   ]
  },
  {
   "cell_type": "code",
   "execution_count": 8,
   "metadata": {},
   "outputs": [],
   "source": [
    "def plot_route(individual):\n",
    "    m = Basemap(projection='lcc', resolution=None,\n",
    "                width=5E6, height=5E6,\n",
    "                lat_0=-15, lon_0=-56)\n",
    "\n",
    "    plt.axis('off')\n",
    "    plt.title(\"Shortest Route\")\n",
    "\n",
    "    for i in range(0, len(individual.genes)):\n",
    "        x, y = m(individual.genes[i].lng, individual.genes[i].lat)\n",
    "\n",
    "        plt.plot(x, y, 'ok', c='r', markersize=5)\n",
    "        if i == len(individual.genes) - 1:\n",
    "            x2, y2 = m(individual.genes[0].lng, individual.genes[0].lat)\n",
    "        else:\n",
    "            x2, y2 = m(individual.genes[i+1].lng, individual.genes[i+1].lat)\n",
    "\n",
    "        plt.plot([x, x2], [y, y2], 'k-', c='r')"
   ]
  },
  {
   "cell_type": "code",
   "execution_count": null,
   "metadata": {},
   "outputs": [],
   "source": []
  },
  {
   "cell_type": "code",
   "execution_count": null,
   "metadata": {},
   "outputs": [],
   "source": []
  }
 ],
 "metadata": {
  "kernelspec": {
   "display_name": "Python 3",
   "language": "python",
   "name": "python3"
  },
  "language_info": {
   "codemirror_mode": {
    "name": "ipython",
    "version": 3
   },
   "file_extension": ".py",
   "mimetype": "text/x-python",
   "name": "python",
   "nbconvert_exporter": "python",
   "pygments_lexer": "ipython3",
   "version": "3.7.1"
  }
 },
 "nbformat": 4,
 "nbformat_minor": 2
}
